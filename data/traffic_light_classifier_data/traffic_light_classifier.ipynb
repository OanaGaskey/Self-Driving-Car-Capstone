{
 "cells": [
  {
   "cell_type": "markdown",
   "metadata": {},
   "source": [
    "---\n",
    "### Step 0: Load The Data"
   ]
  },
  {
   "cell_type": "code",
   "execution_count": 1,
   "metadata": {},
   "outputs": [
    {
     "name": "stderr",
     "output_type": "stream",
     "text": [
      "Using TensorFlow backend.\n"
     ]
    }
   ],
   "source": [
    "# Import libraries\n",
    "import math\n",
    "import cv2\n",
    "import csv\n",
    "import numpy as np\n",
    "import matplotlib.pyplot as plt\n",
    "from sklearn.utils import shuffle\n",
    "from sklearn.model_selection import train_test_split\n",
    "from keras.models import Sequential\n",
    "from keras.utils import to_categorical\n",
    "from keras.layers import Dense, Flatten, Lambda, Conv2D, Activation, Dropout\n",
    "from keras.callbacks import ModelCheckpoint\n",
    "%matplotlib inline"
   ]
  },
  {
   "cell_type": "code",
   "execution_count": 2,
   "metadata": {},
   "outputs": [
    {
     "name": "stdout",
     "output_type": "stream",
     "text": [
      "4110\n"
     ]
    }
   ],
   "source": [
    "#img_data_set = []\n",
    "#label_data_set = []\n",
    "lines = []\n",
    "with open('labeled_images.csv') as csvfile:\n",
    "        reader = csv.reader(csvfile)\n",
    "        next(reader)\n",
    "        for line in reader:\n",
    "            lines.append(line)\n",
    "print(len(lines))"
   ]
  },
  {
   "cell_type": "code",
   "execution_count": 3,
   "metadata": {},
   "outputs": [
    {
     "name": "stdout",
     "output_type": "stream",
     "text": [
      "3288\n",
      "822\n"
     ]
    }
   ],
   "source": [
    "#labeled_pictures = pd.read_csv('labeled_images.csv')\n",
    "shuffle(lines)\n",
    "train_data, val_data = train_test_split(lines, test_size = 0.2)\n",
    "print(len(train_data))\n",
    "print(len(val_data))"
   ]
  },
  {
   "cell_type": "markdown",
   "metadata": {},
   "source": [
    "---\n",
    "### Step 1: Define Data Generator"
   ]
  },
  {
   "cell_type": "code",
   "execution_count": 4,
   "metadata": {},
   "outputs": [],
   "source": [
    "def data_generator (data_lines, batch_size = 40) :\n",
    "    num_lines = len(data_lines)\n",
    "    while True:\n",
    "        shuffle(data_lines)\n",
    "        for offset in range(0, num_lines, batch_size):\n",
    "            batch_lines = data_lines[offset:offset + batch_size]\n",
    "            images = []\n",
    "            labels = []\n",
    "            for batch_line in batch_lines:\n",
    "                img = cv2.cvtColor(cv2.imread('./rec_images/'+str(batch_line[0])+'.jpeg'), cv2.COLOR_BGR2HSV)\n",
    "                images.append(img)\n",
    "                labels.append(batch_line[1])\n",
    "            X = np.array(images)\n",
    "            y = to_categorical(np.array(labels), num_classes=5)\n",
    "            yield shuffle(X, y)"
   ]
  },
  {
   "cell_type": "markdown",
   "metadata": {},
   "source": [
    "---\n",
    "### Step 2: Define Model"
   ]
  },
  {
   "cell_type": "code",
   "execution_count": 10,
   "metadata": {},
   "outputs": [
    {
     "name": "stdout",
     "output_type": "stream",
     "text": [
      "Epoch 1/10\n",
      "26/26 [==============================] - 17s 635ms/step - loss: 1.3061 - val_loss: 0.8058\n",
      "Epoch 2/10\n",
      "26/26 [==============================] - 16s 605ms/step - loss: 0.6093 - val_loss: 0.2359\n",
      "Epoch 3/10\n",
      "26/26 [==============================] - 16s 599ms/step - loss: 0.2378 - val_loss: 0.2344\n",
      "Epoch 4/10\n",
      "26/26 [==============================] - 15s 595ms/step - loss: 0.1020 - val_loss: 0.0357\n",
      "Epoch 5/10\n",
      "26/26 [==============================] - 16s 609ms/step - loss: 0.0707 - val_loss: 0.0102\n",
      "Epoch 6/10\n",
      "26/26 [==============================] - 16s 601ms/step - loss: 0.0579 - val_loss: 0.0192\n",
      "Epoch 7/10\n",
      "26/26 [==============================] - 15s 592ms/step - loss: 0.0208 - val_loss: 0.0019\n",
      "Epoch 8/10\n",
      "26/26 [==============================] - 16s 604ms/step - loss: 0.0246 - val_loss: 0.0064\n",
      "Epoch 9/10\n",
      "26/26 [==============================] - 16s 600ms/step - loss: 0.0505 - val_loss: 0.0022\n",
      "Epoch 10/10\n",
      "26/26 [==============================] - 15s 589ms/step - loss: 0.0197 - val_loss: 0.0012\n",
      "Model saved\n"
     ]
    }
   ],
   "source": [
    "model = Sequential()\n",
    "#normalize data\n",
    "model.add(Lambda(lambda x: (x / 255.0) - 0.5, input_shape=(600,800,3)))\n",
    "\n",
    "model.add(Conv2D(24,(5,5), strides=(2,2), activation='relu'))\n",
    "model.add(Conv2D(36,(5,5), strides=(2,2), activation='relu'))\n",
    "model.add(Conv2D(48,(5,5), strides=(2,2), activation='relu'))\n",
    "model.add(Conv2D(64,(3,3), activation='relu'))\n",
    "model.add(Conv2D(64,(3,3), activation='relu'))\n",
    "model.add(Flatten())\n",
    "model.add(Dense(100, activation='relu'))\n",
    "model.add(Dense(50, activation='relu'))\n",
    "model.add(Dense(10, activation='relu'))\n",
    "model.add(Dense(5, activation='softmax'))\n",
    "\n",
    "model.compile(loss='categorical_crossentropy',optimizer='adam')\n",
    "model.fit_generator(generator = data_generator(train_data),\n",
    "                    validation_data = data_generator(val_data),\n",
    "                    epochs = 10,\n",
    "                    steps_per_epoch  = math.ceil(len(train_data) / 128),\n",
    "                    validation_steps = math.ceil(len(val_data)   / 128)    )\n",
    "model.save('model.h5')\n",
    "print('Model saved')"
   ]
  },
  {
   "cell_type": "code",
   "execution_count": 12,
   "metadata": {},
   "outputs": [
    {
     "name": "stdout",
     "output_type": "stream",
     "text": [
      "Predicted Probabilities: [[1.6459733e-08 6.5546340e-07 9.9999928e-01 6.5244851e-11 7.5452611e-10]]\n",
      "Predicted Labels: [2]\n"
     ]
    }
   ],
   "source": [
    "test_images = np.array([cv2.cvtColor(cv2.imread('./rec_images/5822.jpeg'), cv2.COLOR_BGR2HSV)])\n",
    "pred_vects = model.predict(test_images)\n",
    "print(\"Predicted Probabilities: {}\".format(pred_vects))\n",
    "pred_labels = pred_vects.argmax(axis=-1)\n",
    "print(\"Predicted Labels: {}\".format(pred_labels))"
   ]
  }
 ],
 "metadata": {
  "kernelspec": {
   "display_name": "Python 3",
   "language": "python",
   "name": "python3"
  },
  "language_info": {
   "codemirror_mode": {
    "name": "ipython",
    "version": 3
   },
   "file_extension": ".py",
   "mimetype": "text/x-python",
   "name": "python",
   "nbconvert_exporter": "python",
   "pygments_lexer": "ipython3",
   "version": "3.6.9"
  }
 },
 "nbformat": 4,
 "nbformat_minor": 2
}
