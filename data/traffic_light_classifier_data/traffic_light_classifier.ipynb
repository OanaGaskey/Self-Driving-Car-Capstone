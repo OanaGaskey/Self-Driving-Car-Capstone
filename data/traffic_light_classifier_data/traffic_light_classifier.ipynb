{
 "cells": [
  {
   "cell_type": "markdown",
   "metadata": {},
   "source": [
    "---\n",
    "### Step 0: Load The Data"
   ]
  },
  {
   "cell_type": "code",
   "execution_count": 1,
   "metadata": {},
   "outputs": [
    {
     "name": "stderr",
     "output_type": "stream",
     "text": [
      "Using TensorFlow backend.\n"
     ]
    }
   ],
   "source": [
    "# Import libraries\n",
    "import math\n",
    "import cv2\n",
    "import csv\n",
    "import numpy as np\n",
    "import matplotlib.pyplot as plt\n",
    "from sklearn.utils import shuffle\n",
    "from sklearn.model_selection import train_test_split \n",
    "from keras.models import Sequential, model_from_json\n",
    "from keras.utils import to_categorical\n",
    "from keras.layers import Dense, Flatten, Lambda, Conv2D, Activation, Dropout\n",
    "from keras.callbacks import ModelCheckpoint\n",
    "%matplotlib inline"
   ]
  },
  {
   "cell_type": "code",
   "execution_count": 2,
   "metadata": {},
   "outputs": [
    {
     "name": "stdout",
     "output_type": "stream",
     "text": [
      "4110\n"
     ]
    }
   ],
   "source": [
    "#img_data_set = []\n",
    "#label_data_set = []\n",
    "lines = []\n",
    "with open('labeled_images.csv') as csvfile:\n",
    "        reader = csv.reader(csvfile)\n",
    "        next(reader)\n",
    "        for line in reader:\n",
    "            lines.append(line)\n",
    "print(len(lines))"
   ]
  },
  {
   "cell_type": "code",
   "execution_count": 3,
   "metadata": {},
   "outputs": [
    {
     "name": "stdout",
     "output_type": "stream",
     "text": [
      "3288\n",
      "822\n"
     ]
    }
   ],
   "source": [
    "#labeled_pictures = pd.read_csv('labeled_images.csv')\n",
    "shuffle(lines)\n",
    "train_data, val_data = train_test_split(lines, test_size = 0.2)\n",
    "print(len(train_data))\n",
    "print(len(val_data))"
   ]
  },
  {
   "cell_type": "markdown",
   "metadata": {},
   "source": [
    "---\n",
    "### Step 1: Define Data Generator"
   ]
  },
  {
   "cell_type": "code",
   "execution_count": 6,
   "metadata": {},
   "outputs": [],
   "source": [
    "def data_generator (data_lines, batch_size = 40) :\n",
    "    num_lines = len(data_lines)\n",
    "    while True:\n",
    "        shuffle(data_lines)\n",
    "        for offset in range(0, num_lines, batch_size):\n",
    "            batch_lines = data_lines[offset:offset + batch_size]\n",
    "            images = []\n",
    "            labels = []\n",
    "            for batch_line in batch_lines:\n",
    "                img = cv2.cvtColor(cv2.imread('./rec_images/'+str(batch_line[0])+'.jpeg'), cv2.COLOR_BGR2HSV)\n",
    "                resized_image = cv2.resize(img, (400, 300))\n",
    "                images.append(resized_image)\n",
    "                labels.append(batch_line[1])\n",
    "            X = np.array(images)\n",
    "            y = to_categorical(np.array(labels), num_classes=5)\n",
    "            yield shuffle(X, y)"
   ]
  },
  {
   "cell_type": "markdown",
   "metadata": {},
   "source": [
    "---\n",
    "### Step 2: Define Model"
   ]
  },
  {
   "cell_type": "code",
   "execution_count": 7,
   "metadata": {},
   "outputs": [
    {
     "name": "stdout",
     "output_type": "stream",
     "text": [
      "Epoch 1/10\n",
      "26/26 [==============================] - 71s 3s/step - loss: 1.2842 - acc: 0.4663 - val_loss: 1.0064 - val_acc: 0.6107\n",
      "Epoch 2/10\n",
      "26/26 [==============================] - 71s 3s/step - loss: 0.9267 - acc: 0.6279 - val_loss: 0.7931 - val_acc: 0.7500\n",
      "Epoch 3/10\n",
      "26/26 [==============================] - 76s 3s/step - loss: 0.7324 - acc: 0.7356 - val_loss: 0.7239 - val_acc: 0.7710\n",
      "Epoch 4/10\n",
      "26/26 [==============================] - 73s 3s/step - loss: 0.6673 - acc: 0.7365 - val_loss: 0.5444 - val_acc: 0.7893\n",
      "Epoch 5/10\n",
      "26/26 [==============================] - 69s 3s/step - loss: 0.4630 - acc: 0.7904 - val_loss: 0.4025 - val_acc: 0.8250\n",
      "Epoch 6/10\n",
      "26/26 [==============================] - 69s 3s/step - loss: 0.4359 - acc: 0.8202 - val_loss: 0.3544 - val_acc: 0.8664\n",
      "Epoch 7/10\n",
      "26/26 [==============================] - 67s 3s/step - loss: 0.3115 - acc: 0.8729 - val_loss: 0.2882 - val_acc: 0.8964\n",
      "Epoch 8/10\n",
      "26/26 [==============================] - 69s 3s/step - loss: 0.2182 - acc: 0.9183 - val_loss: 0.1841 - val_acc: 0.9357\n",
      "Epoch 9/10\n",
      "26/26 [==============================] - 68s 3s/step - loss: 0.2038 - acc: 0.9337 - val_loss: 0.1034 - val_acc: 0.9618\n",
      "Epoch 10/10\n",
      "26/26 [==============================] - 67s 3s/step - loss: 0.1020 - acc: 0.9692 - val_loss: 0.0934 - val_acc: 0.9714\n",
      "Model saved\n"
     ]
    }
   ],
   "source": [
    "model = Sequential()\n",
    "#normalize data\n",
    "model.add(Lambda(lambda x: (x / 255.0) - 0.5, input_shape=(300,400,3)))\n",
    "\n",
    "model.add(Conv2D(24,(5,5), strides=(2,2), activation='relu'))\n",
    "model.add(Conv2D(36,(5,5), strides=(2,2), activation='relu'))\n",
    "model.add(Conv2D(48,(5,5), strides=(2,2), activation='relu'))\n",
    "model.add(Conv2D(64,(3,3), activation='relu'))\n",
    "model.add(Conv2D(64,(3,3), activation='relu'))\n",
    "model.add(Flatten())\n",
    "model.add(Dense(100, activation='relu'))\n",
    "model.add(Dense(50, activation='relu'))\n",
    "model.add(Dense(10, activation='relu'))\n",
    "model.add(Dense(5, activation='softmax'))\n",
    "\n",
    "model.compile(loss='categorical_crossentropy',optimizer='adam', metrics=['accuracy'])\n",
    "model.fit_generator(generator = data_generator(train_data),\n",
    "                    validation_data = data_generator(val_data),\n",
    "                    epochs = 10,\n",
    "                    steps_per_epoch  = math.ceil(len(train_data) / 128),\n",
    "                    validation_steps = math.ceil(len(val_data)   / 128)    )\n",
    "model.save('model.h5')\n",
    "model_json = model.to_json()\n",
    "with open(\"model.json\", \"w\") as json_file:\n",
    "    json_file.write(model_json)\n",
    "print('Model saved')"
   ]
  },
  {
   "cell_type": "code",
   "execution_count": 12,
   "metadata": {},
   "outputs": [
    {
     "name": "stdout",
     "output_type": "stream",
     "text": [
      "Predicted Probabilities: [[2.5236413e-05 1.6024712e-03 9.9814630e-01 1.0115817e-15 2.2598584e-04]]\n",
      "Predicted Labels: [2]\n"
     ]
    }
   ],
   "source": [
    "test_image = cv2.cvtColor(cv2.imread('./rec_images/5822.jpeg'), cv2.COLOR_BGR2HSV)\n",
    "resized_image = cv2.resize(test_image, (400, 300))\n",
    "resized_image = np.array([resized_image])\n",
    "pred_vects = model.predict(resized_image)\n",
    "print(\"Predicted Probabilities: {}\".format(pred_vects))\n",
    "pred_labels = pred_vects.argmax(axis=-1)\n",
    "print(\"Predicted Labels: {}\".format(pred_labels))"
   ]
  }
 ],
 "metadata": {
  "kernelspec": {
   "display_name": "Python 3",
   "language": "python",
   "name": "python3"
  },
  "language_info": {
   "codemirror_mode": {
    "name": "ipython",
    "version": 3
   },
   "file_extension": ".py",
   "mimetype": "text/x-python",
   "name": "python",
   "nbconvert_exporter": "python",
   "pygments_lexer": "ipython3",
   "version": "3.7.4"
  }
 },
 "nbformat": 4,
 "nbformat_minor": 2
}
