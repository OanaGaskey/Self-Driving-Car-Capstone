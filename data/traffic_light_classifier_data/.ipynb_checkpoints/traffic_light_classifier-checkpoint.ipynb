{
 "cells": [
  {
   "cell_type": "markdown",
   "metadata": {},
   "source": [
    "---\n",
    "### Step 0: Load The Data"
   ]
  },
  {
   "cell_type": "code",
   "execution_count": null,
   "metadata": {},
   "outputs": [],
   "source": [
    "# Import libraries\n",
    "import math\n",
    "import cv2\n",
    "import csv\n",
    "import numpy as np\n",
    "import matplotlib.pyplot as plt\n",
    "from sklearn.utils import shuffle\n",
    "from sklearn.model_selection import train_test_split\n",
    "from keras.models import Sequential\n",
    "from keras.utils import to_categorical\n",
    "from keras.layers import Dense, Flatten, Lambda, Conv2D, Activation, Dropout\n",
    "from keras.callbacks import ModelCheckpoint\n",
    "%matplotlib inline"
   ]
  },
  {
   "cell_type": "code",
   "execution_count": null,
   "metadata": {},
   "outputs": [],
   "source": [
    "#img_data_set = []\n",
    "#label_data_set = []\n",
    "lines = []\n",
    "with open('labeled_images.csv') as csvfile:\n",
    "        reader = csv.reader(csvfile)\n",
    "        next(reader)\n",
    "        for line in reader:\n",
    "            lines.append(line)\n",
    "print(len(lines))"
   ]
  },
  {
   "cell_type": "code",
   "execution_count": null,
   "metadata": {},
   "outputs": [],
   "source": [
    "#labeled_pictures = pd.read_csv('labeled_images.csv')\n",
    "shuffle(lines)\n",
    "train_data, val_data = train_test_split(lines, test_size = 0.2)\n",
    "print(len(train_data))\n",
    "print(len(val_data))"
   ]
  },
  {
   "cell_type": "markdown",
   "metadata": {},
   "source": [
    "---\n",
    "### Step 1: Define Data Generator"
   ]
  },
  {
   "cell_type": "code",
   "execution_count": null,
   "metadata": {},
   "outputs": [],
   "source": [
    "def data_generator (data_lines, batch_size = 40) :\n",
    "    num_lines = len(data_lines)\n",
    "    while True:\n",
    "        shuffle(data_lines)\n",
    "        for offset in range(0, num_lines, batch_size):\n",
    "            batch_lines = data_lines[offset:offset + batch_size]\n",
    "            images = []\n",
    "            labels = []\n",
    "            for batch_line in batch_lines:\n",
    "                img = cv2.cvtColor(cv2.imread('./rec_images/'+str(batch_line[0])+'.jpeg'), cv2.COLOR_BGR2HSV)\n",
    "                images.append(img)\n",
    "                labels.append(batch_line[1])\n",
    "            X = np.array(images)\n",
    "            y = to_categorical(np.array(labels), num_classes=5)\n",
    "            yield shuffle(X, y)"
   ]
  },
  {
   "cell_type": "markdown",
   "metadata": {},
   "source": [
    "---\n",
    "### Step 2: Define Model"
   ]
  },
  {
   "cell_type": "code",
   "execution_count": null,
   "metadata": {},
   "outputs": [],
   "source": [
    "model = Sequential()\n",
    "#normalize data\n",
    "model.add(Lambda(lambda x: (x / 255.0) - 0.5, input_shape=(600,800,3)))\n",
    "\n",
    "model.add(Conv2D(24,(5,5), strides=(2,2), activation='relu'))\n",
    "model.add(Conv2D(36,(5,5), strides=(2,2), activation='relu'))\n",
    "model.add(Conv2D(48,(5,5), strides=(2,2), activation='relu'))\n",
    "model.add(Conv2D(64,(3,3), activation='relu'))\n",
    "model.add(Conv2D(64,(3,3), activation='relu'))\n",
    "model.add(Flatten())\n",
    "model.add(Dense(100, activation='relu'))\n",
    "model.add(Dense(50, activation='relu'))\n",
    "model.add(Dense(10, activation='relu'))\n",
    "model.add(Dense(5, activation='softmax'))\n",
    "\n",
    "model.compile(loss='categorical_crossentropy',optimizer='adam')\n",
    "model.fit_generator(generator = data_generator(train_data),\n",
    "                    validation_data = data_generator(val_data),\n",
    "                    epochs = 10,\n",
    "                    steps_per_epoch  = math.ceil(len(train_data) / 128),\n",
    "                    validation_steps = math.ceil(len(val_data)   / 128)    )\n",
    "model.save('model.h5')\n",
    "print('Model saved')"
   ]
  },
  {
   "cell_type": "code",
   "execution_count": null,
   "metadata": {},
   "outputs": [],
   "source": [
    "test_images = np.array([cv2.cvtColor(cv2.imread('./rec_images/5822.jpeg'), cv2.COLOR_BGR2HSV)])\n",
    "pred_vects = model.predict(test_images)\n",
    "print(\"Predicted Probabilities: {}\".format(pred_vects))\n",
    "pred_labels = pred_vects.argmax(axis=-1)\n",
    "print(\"Predicted Labels: {}\".format(pred_labels))"
   ]
  }
 ],
 "metadata": {
  "kernelspec": {
   "display_name": "Python 3",
   "language": "python",
   "name": "python3"
  },
  "language_info": {
   "codemirror_mode": {
    "name": "ipython",
    "version": 3
   },
   "file_extension": ".py",
   "mimetype": "text/x-python",
   "name": "python",
   "nbconvert_exporter": "python",
   "pygments_lexer": "ipython3",
   "version": "3.7.4"
  }
 },
 "nbformat": 4,
 "nbformat_minor": 2
}
